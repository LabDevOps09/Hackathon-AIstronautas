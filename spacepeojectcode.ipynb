{
  "nbformat": 4,
  "nbformat_minor": 0,
  "metadata": {
    "colab": {
      "provenance": [],
      "include_colab_link": true
    },
    "kernelspec": {
      "name": "python3",
      "display_name": "Python 3"
    },
    "language_info": {
      "name": "python"
    }
  },
  "cells": [
    {
      "cell_type": "markdown",
      "metadata": {
        "id": "view-in-github",
        "colab_type": "text"
      },
      "source": [
        "<a href=\"https://colab.research.google.com/github/LabDevOps09/Hackathon-AIstronautas/blob/main/spacepeojectcode.ipynb\" target=\"_parent\"><img src=\"https://colab.research.google.com/assets/colab-badge.svg\" alt=\"Open In Colab\"/></a>"
      ]
    },
    {
      "cell_type": "code",
      "source": [
        "import requests\n",
        "import pandas as pd\n",
        "\n",
        "# Function to fetch Mars rover data from NASA API\n",
        "def fetch_mars_rover_data(api_key):\n",
        "    url = f'https://api.nasa.gov/mars-photos/api/v1/rovers/curiosity/photos'\n",
        "    params = {'sol': 1000, 'api_key': api_key}\n",
        "    response = requests.get(url, params=params)\n",
        "    data = response.json()\n",
        "    return data\n",
        "\n",
        "# Example usage\n",
        "api_key = '8HALnlv0Gc2ZyMFDLQmwYKFlTieI3pWmS3RmUDRv'  # Replace with your NASA API key\n",
        "mars_data = fetch_mars_rover_data(api_key)\n"
      ],
      "metadata": {
        "id": "3sGnh_Mn_1Ba"
      },
      "execution_count": 12,
      "outputs": []
    },
    {
      "cell_type": "code",
      "source": [
        "import random\n",
        "\n",
        "def generate_sci_fi_story(space_data):\n",
        "    # Get random photo details\n",
        "    photo = random.choice(space_data['photos'])\n",
        "    rover_name = photo['rover']['name']\n",
        "    sol = photo['sol']\n",
        "    img_url = photo['img_src']\n",
        "\n",
        "    # Create a story using the fetched data\n",
        "    story = f\"Astronaut discovered an amazing new image on Mars taken by the {rover_name} rover on Martian Sol {sol}. The photo shows: {img_url}.\"\n",
        "    return story\n",
        "\n",
        "# Example story generation\n",
        "sci_fi_story = generate_sci_fi_story(mars_data)\n"
      ],
      "metadata": {
        "id": "0CAomzXkG12d"
      },
      "execution_count": 13,
      "outputs": []
    },
    {
      "cell_type": "code",
      "source": [
        "def generate_mission_blueprint(destination, crew_size, mission_duration):\n",
        "    blueprint = (f\"The mission to {destination} will take {mission_duration} months, \"\n",
        "                 f\"with a crew of {crew_size} astronauts.\")\n",
        "    return blueprint\n",
        "\n",
        "# Example mission blueprint\n",
        "mission_blueprint = generate_mission_blueprint('Mars', 3, 9)\n"
      ],
      "metadata": {
        "id": "jV8s3UUDG51R"
      },
      "execution_count": 14,
      "outputs": []
    },
    {
      "cell_type": "code",
      "source": [
        "mars_images = [\n",
        "    \"https://mars.nasa.gov/system/news_items/main_images/10736_PIA25577-Figure_1.jpg\",\n",
        "    \"https://mars.nasa.gov/system/news_items/main_images/10861_PIA26519-Figure_1.jpg\"\n",
        "]\n",
        "\n",
        "def suggest_visuals(mission_type):\n",
        "    if mission_type == \"Mars\":\n",
        "        return random.choice(mars_images)\n",
        "    return \"No visuals available for this mission.\"\n",
        "\n",
        "# Example visualization suggestion\n",
        "visual_suggestion = suggest_visuals('Mars')\n"
      ],
      "metadata": {
        "id": "_OEnrc88G8M1"
      },
      "execution_count": 15,
      "outputs": []
    },
    {
      "cell_type": "code",
      "source": [
        "def full_process(api_key, destination, crew_size, mission_duration):\n",
        "    # Fetch space data\n",
        "    space_data = fetch_mars_rover_data(api_key)\n",
        "\n",
        "    # Generate sci-fi story\n",
        "    sci_fi_story = generate_sci_fi_story(space_data)\n",
        "    print(f\"Sci-Fi Story: {sci_fi_story}\")\n",
        "\n",
        "    # Generate mission blueprint\n",
        "    mission_blueprint = generate_mission_blueprint(destination, crew_size, mission_duration)\n",
        "    print(f\"Mission Blueprint: {mission_blueprint}\")\n",
        "\n",
        "    # Suggest visuals\n",
        "    visual_suggestion = suggest_visuals(destination)\n",
        "    print(f\"Visual Suggestion: {visual_suggestion}\")\n",
        "\n",
        "# Running the full process with example inputs\n",
        "full_process(api_key, 'Mars', 4, 12)\n"
      ],
      "metadata": {
        "id": "vhl2J5xaG-my"
      },
      "execution_count": null,
      "outputs": []
    },
    {
      "cell_type": "code",
      "source": [
        "# User Input for Mission Parameters\n",
        "def get_user_input():\n",
        "    destination = input(\"Enter the destination (e.g., Mars, Moon, Jupiter): \")\n",
        "    crew_size = int(input(\"Enter the crew size: \"))\n",
        "    mission_duration = int(input(\"Enter the mission duration in months: \"))\n",
        "\n",
        "    return destination, crew_size, mission_duration\n",
        "\n",
        "# Fetching the data based on user input\n",
        "destination, crew_size, mission_duration = get_user_input()\n",
        "full_process(api_key, destination, crew_size, mission_duration)\n"
      ],
      "metadata": {
        "colab": {
          "base_uri": "https://localhost:8080/"
        },
        "id": "sjckjnqDHBxF",
        "outputId": "5ed8c2ae-faad-400f-8423-332ba56920a0"
      },
      "execution_count": 16,
      "outputs": [
        {
          "output_type": "stream",
          "name": "stdout",
          "text": [
            "Enter the destination (e.g., Mars, Moon, Jupiter): Mars\n",
            "Enter the crew size: 5\n",
            "Enter the mission duration in months: 12\n",
            "Sci-Fi Story: Astronaut discovered an amazing new image on Mars taken by the Curiosity rover on Martian Sol 1000. The photo shows: http://mars.jpl.nasa.gov/msl-raw-images/msss/01000/mcam/1000ML0044630750405172C00_DXXX.jpg.\n",
            "Mission Blueprint: The mission to Mars will take 12 months, with a crew of 5 astronauts.\n",
            "Visual Suggestion: https://mars.nasa.gov/system/news_items/main_images/10736_PIA25577-Figure_1.jpg\n"
          ]
        }
      ]
    },
    {
      "cell_type": "code",
      "source": [
        "def generate_sci_fi_story(space_data):\n",
        "    # Random event selection\n",
        "    events = [\"discovered alien life\", \"found an ancient artifact\", \"encountered a cosmic anomaly\"]\n",
        "    event = random.choice(events)\n",
        "\n",
        "    # Randomly select photo details\n",
        "    photo = random.choice(space_data['photos'])\n",
        "    rover_name = photo['rover']['name']\n",
        "    sol = photo['sol']\n",
        "    img_url = photo['img_src']\n",
        "\n",
        "    # Create a more engaging story\n",
        "    story = (f\"Astronaut discovered an amazing new image on Mars taken by the {rover_name} rover on Martian Sol {sol}. \"\n",
        "             f\"During the mission, the astronaut {event}. The photo shows: {img_url}\")\n",
        "    return story\n",
        "\n",
        "# Generate a more complex story\n",
        "sci_fi_story = generate_sci_fi_story(mars_data)\n"
      ],
      "metadata": {
        "id": "HMLoHdguILHD"
      },
      "execution_count": 8,
      "outputs": []
    },
    {
      "cell_type": "code",
      "source": [
        "def fetch_mars_rover_data(api_key):\n",
        "    try:\n",
        "        url = f'https://api.nasa.gov/mars-photos/api/v1/rovers/curiosity/photos'\n",
        "        params = {'sol': 1000, 'api_key': api_key}\n",
        "        response = requests.get(url, params=params)\n",
        "        response.raise_for_status()  # Raise HTTPError for bad responses (4xx or 5xx)\n",
        "        data = response.json()\n",
        "        return data\n",
        "    except requests.exceptions.RequestException as e:\n",
        "        print(f\"Error fetching data: {e}\")\n",
        "        return None\n",
        "\n",
        "# Example usage\n",
        "mars_data = fetch_mars_rover_data('your_nasa_api_key')\n",
        "if mars_data:\n",
        "    sci_fi_story = generate_sci_fi_story(mars_data)\n"
      ],
      "metadata": {
        "colab": {
          "base_uri": "https://localhost:8080/"
        },
        "id": "uzc80fYlHrZX",
        "outputId": "eddfcbac-f0f2-4cf8-f3ea-d2761c27450f"
      },
      "execution_count": 9,
      "outputs": [
        {
          "output_type": "stream",
          "name": "stdout",
          "text": [
            "Error fetching data: 403 Client Error: Forbidden for url: https://api.nasa.gov/mars-photos/api/v1/rovers/curiosity/photos?sol=1000&api_key=your_nasa_api_key\n"
          ]
        }
      ]
    },
    {
      "cell_type": "code",
      "source": [
        "def suggest_visuals(mission_type, mission_stage):\n",
        "    mars_images = [\n",
        "        \"https://mars.nasa.gov/system/news_items/main_images/10736_PIA25577-Figure_1.jpg\",\n",
        "        \"https://mars.nasa.gov/system/news_items/main_images/10861_PIA26519-Figure_1.jpg\"\n",
        "    ]\n",
        "    launch_images = [\n",
        "        \"https://www.spacex.com/sites/spacex/files/styles/full_width/public/2023-07/hero-new-mission.jpg\"\n",
        "    ]\n",
        "\n",
        "    if mission_type == \"Mars\":\n",
        "        if mission_stage == \"Launch\":\n",
        "            return random.choice(launch_images)\n",
        "        return random.choice(mars_images)\n",
        "\n",
        "    return \"No visuals available for this mission stage.\"\n",
        "\n",
        "# Example visual suggestion based on mission stage\n",
        "visual_suggestion = suggest_visuals('Mars', 'Launch')\n"
      ],
      "metadata": {
        "id": "naQYFrFsIO83"
      },
      "execution_count": 10,
      "outputs": []
    },
    {
      "cell_type": "code",
      "source": [],
      "metadata": {
        "id": "mwITSqNRIZ6K"
      },
      "execution_count": null,
      "outputs": []
    }
  ]
}